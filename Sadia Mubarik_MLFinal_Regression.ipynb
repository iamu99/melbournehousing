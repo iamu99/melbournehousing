{
 "cells": [
  {
   "cell_type": "code",
   "execution_count": null,
   "metadata": {
    "collapsed": true
   },
   "outputs": [],
   "source": [
    "import sys"
   ]
  },
  {
   "cell_type": "code",
   "execution_count": 2,
   "metadata": {},
   "outputs": [
    {
     "name": "stderr",
     "output_type": "stream",
     "text": [
      "Using TensorFlow backend.\n"
     ]
    }
   ],
   "source": [
    "from tensorflow.keras import Sequential\n",
    "from tensorflow.keras.layers import Dense, Dropout\n",
    "from keras.wrappers.scikit_learn import KerasRegressor\n",
    "from sklearn.ensemble import RandomForestRegressor\n",
    "from sklearn.model_selection import GridSearchCV, RandomizedSearchCV\n",
    "from sklearn.model_selection import cross_val_score\n",
    "from sklearn.model_selection import KFold\n",
    "from sklearn.preprocessing import MinMaxScaler\n",
    "from sklearn.metrics import mean_squared_error\n",
    "\n",
    "\n",
    "import pandas as pd\n",
    "import numpy as np\n",
    "import seaborn as sns\n",
    "import matplotlib.pyplot as plt\n",
    "priceData = pd.read_csv('melb_data.csv')\n",
    "\n",
    "\n",
    "#encode the categorical variables\n",
    "\n",
    "from sklearn.preprocessing import LabelEncoder\n",
    "encoder = LabelEncoder()\n",
    "priceData['encoded_suburb'] = encoder.fit_transform(priceData['Suburb'])\n",
    "priceData['encoded_type'] = encoder.fit_transform(priceData['Type'])\n",
    "priceData['encoded_sellerG'] = encoder.fit_transform(priceData['SellerG'])\n",
    "priceData['encoded_councilarea'] = encoder.fit_transform(priceData['CouncilArea'])\n",
    "priceData['encoded_regionname'] = encoder.fit_transform(priceData['Regionname'])\n",
    "\n",
    "\n",
    "\n",
    "scaler = MinMaxScaler()\n",
    "priceData['scaled_price'] = scaler.fit_transform(priceData[['Price']])\n",
    "\n",
    "\n",
    "#impute missing values for Car, Landsize, BuildingArea, YearBuilt, CouncilArea\n",
    "from sklearn.impute import SimpleImputer\n",
    "from sklearn.impute import KNNImputer\n",
    "\n",
    "imputer0 = KNNImputer()\n",
    "imputer1 = SimpleImputer(missing_values=np.nan, strategy='mean')\n",
    "imputer2 = SimpleImputer(missing_values=np.nan, strategy='median')\n",
    "imputer3 = SimpleImputer(missing_values=np.nan, strategy='most_frequent')\n",
    "\n",
    "priceData[['Car']] = imputer2.fit_transform(priceData[['Car']])\n",
    "priceData[['Landsize']] = imputer1.fit_transform(priceData[['Landsize']])\n",
    "priceData[['BuildingArea']] = imputer0.fit_transform(priceData[['BuildingArea']])\n",
    "priceData[['YearBuilt']] = imputer0.fit_transform(priceData[['YearBuilt']])\n",
    "priceData[['CouncilArea']] = imputer3.fit_transform(priceData[['CouncilArea']])\n",
    "\n"
   ]
  },
  {
   "cell_type": "code",
   "execution_count": null,
   "metadata": {
    "collapsed": true
   },
   "outputs": [],
   "source": [
    "priceData.describe()"
   ]
  },
  {
   "cell_type": "code",
   "execution_count": null,
   "metadata": {
    "collapsed": true
   },
   "outputs": [],
   "source": [
    "#Using Pearson Correlation\n",
    "plt.figure(figsize = (20,15))\n",
    "cor = priceData.corr()\n",
    "sns.heatmap(cor, annot=True, cmap=plt.cm.Reds)"
   ]
  },
  {
   "cell_type": "code",
   "execution_count": null,
   "metadata": {
    "collapsed": true
   },
   "outputs": [],
   "source": [
    "#figure out which variables contain missing data\n",
    "priceData.isnull().sum()\n",
    "\n",
    "#figure out relevant features, correlation > 0.2\n",
    "cor_target = abs(cor[\"Price\"])\n",
    "selected_features = cor_target[cor_target>0.2]\n",
    "selected_features"
   ]
  },
  {
   "cell_type": "code",
   "execution_count": 51,
   "metadata": {},
   "outputs": [
    {
     "data": {
      "text/plain": [
       "<AxesSubplot:xlabel='Rooms', ylabel='Price'>"
      ]
     },
     "execution_count": 51,
     "metadata": {},
     "output_type": "execute_result"
    },
    {
     "data": {
      "image/png": "[encoded data removed]",
      "text/plain": [
       "<Figure size 432x288 with 1 Axes>"
      ]
     },
     "metadata": {
      "needs_background": "light"
     },
     "output_type": "display_data"
    }
   ],
   "source": [
    "sns.boxplot(data = priceData, x='Rooms', y='Price')\n"
   ]
  },
  {
   "cell_type": "code",
   "execution_count": 50,
   "metadata": {},
   "outputs": [
    {
     "data": {
      "text/plain": [
       "<AxesSubplot:xlabel='Rooms', ylabel='Price'>"
      ]
     },
     "execution_count": 50,
     "metadata": {},
     "output_type": "execute_result"
    },
    {
     "data": {
      "image/png": "[encoded data removed]",
      "text/plain": [
       "<Figure size 432x288 with 1 Axes>"
      ]
     },
     "metadata": {
      "needs_background": "light"
     },
     "output_type": "display_data"
    }
   ],
   "source": [
    "sns.barplot(data = priceData, x='Rooms', y='Price')"
   ]
  },
  {
   "cell_type": "code",
   "execution_count": 3,
   "metadata": {
    "collapsed": true
   },
   "outputs": [],
   "source": [
    "#prepare data for the model based on selected features\n",
    "\n",
    "x = priceData[['Rooms', 'Bedroom2', 'Bathroom','Car', 'YearBuilt', 'Lattitude', 'Longtitude', 'encoded_type']].copy()\n",
    "y = priceData[['scaled_price']].copy()\n",
    "\n",
    "#split into train and test \n",
    "from sklearn.model_selection import train_test_split\n",
    "x_train, x_test, y_train, y_test = train_test_split(x, y, test_size=0.2, random_state = 1)\n",
    "\n",
    "#scale the data\n",
    "x_train = scaler.fit_transform( x_train )\n",
    "y_train = scaler.fit_transform( y_train )"
   ]
  },
  {
   "cell_type": "markdown",
   "metadata": {},
   "source": [
    "### DNN Regressor"
   ]
  },
  {
   "cell_type": "code",
   "execution_count": 5,
   "metadata": {
    "collapsed": true
   },
   "outputs": [],
   "source": [
    "#develop a deep neural net model\n",
    "\n",
    "def create_model(neurons=1, dropout_rate=0.0, learn_rate=0.01):\n",
    "    model = Sequential()\n",
    "    model.add(Dense(13, input_dim=8, activation='relu'))\n",
    "    model.add(Dropout(dropout_rate))\n",
    "    model.add(Dense(1))\n",
    "    model.compile(loss='mean_squared_error', optimizer='adam')\n",
    "    return model\n",
    "\n",
    "dnnreg = KerasRegressor(build_fn=create_model, verbose=0)\n"
   ]
  },
  {
   "cell_type": "code",
   "execution_count": 15,
   "metadata": {},
   "outputs": [
    {
     "name": "stdout",
     "output_type": "stream",
     "text": [
      "Best: -0.028691 using {'neurons': 40, 'learn_rate': 0.01, 'epochs': 50, 'dropout_rate': 0.0, 'batch_size': 20}\n",
      "-0.032622 (0.000685) with: {'neurons': 16, 'learn_rate': 0.01, 'epochs': 50, 'dropout_rate': 0.3, 'batch_size': 60}\n",
      "-0.028691 (0.000529) with: {'neurons': 40, 'learn_rate': 0.01, 'epochs': 50, 'dropout_rate': 0.0, 'batch_size': 20}\n",
      "-0.031598 (0.001823) with: {'neurons': 32, 'learn_rate': 0.001, 'epochs': 50, 'dropout_rate': 0.0, 'batch_size': 60}\n",
      "-0.030096 (0.000525) with: {'neurons': 16, 'learn_rate': 0.01, 'epochs': 50, 'dropout_rate': 0.1, 'batch_size': 60}\n",
      "-0.048371 (0.013170) with: {'neurons': 32, 'learn_rate': 0.001, 'epochs': 10, 'dropout_rate': 0.1, 'batch_size': 60}\n",
      "-0.029838 (0.000591) with: {'neurons': 16, 'learn_rate': 0.001, 'epochs': 50, 'dropout_rate': 0.0, 'batch_size': 60}\n",
      "-0.033846 (0.002484) with: {'neurons': 32, 'learn_rate': 0.01, 'epochs': 10, 'dropout_rate': 0.1, 'batch_size': 40}\n",
      "-0.032157 (0.001068) with: {'neurons': 32, 'learn_rate': 0.1, 'epochs': 10, 'dropout_rate': 0.1, 'batch_size': 20}\n",
      "-0.030208 (0.001534) with: {'neurons': 16, 'learn_rate': 0.01, 'epochs': 50, 'dropout_rate': 0.0, 'batch_size': 60}\n",
      "-0.037631 (0.001935) with: {'neurons': 40, 'learn_rate': 0.001, 'epochs': 10, 'dropout_rate': 0.3, 'batch_size': 60}\n"
     ]
    }
   ],
   "source": [
    "\n",
    "batch_size = [20, 40, 60]\n",
    "epochs = [10, 50]\n",
    "neurons = [16, 32, 40]\n",
    "dropout_rate = [0.0, 0.1, 0.2, 0.3]\n",
    "learn_rate = [0.001, 0.01, 0.1]\n",
    "\n",
    "param_grid = dict(batch_size=batch_size, epochs=epochs, neurons = neurons,dropout_rate = dropout_rate, learn_rate=learn_rate)\n",
    "search = RandomizedSearchCV(estimator=dnnreg, param_distributions=param_grid, n_jobs=-1, cv=3, scoring = \"neg_mean_absolute_error\")\n",
    "search_resultReg = search.fit(x_train, y_train)\n",
    "print(\"Best: %f using %s\" % (search_resultReg.best_score_, search_resultReg.best_params_))\n",
    "\n",
    "means = search_resultReg.cv_results_['mean_test_score']\n",
    "stds = search_resultReg.cv_results_['std_test_score']\n",
    "params = search_resultReg.cv_results_['params']\n",
    "\n",
    "for mean, stdev, param in zip(means, stds, params):\n",
    "    print(\"%f (%f) with: %r\" % (mean, stdev, param))\n"
   ]
  },
  {
   "cell_type": "code",
   "execution_count": null,
   "metadata": {
    "collapsed": true
   },
   "outputs": [],
   "source": [
    "import joblib \n",
    "\n",
    "joblib.dump(search_resultReg, 'DNNregressor.pkl')"
   ]
  },
  {
   "cell_type": "code",
   "execution_count": null,
   "metadata": {
    "collapsed": true
   },
   "outputs": [],
   "source": [
    "batch_size = [20, 40, 60]\n",
    "epochs = [10, 50]\n",
    "neurons = [16, 32, 40]\n",
    "dropout_rate = [0.0, 0.1, 0.2, 0.3]\n",
    "learn_rate = [0.001, 0.01, 0.1]\n",
    "\n",
    "param_grid = dict(batch_size=batch_size, epochs=epochs, neurons = neurons,dropout_rate = dropout_rate, learn_rate=learn_rate)\n",
    "search = RandomizedSearchCV(estimator=dnnreg, param_distributions=param_grid, n_jobs=-1, cv=3)\n",
    "search_resultReg = search.fit(x_train, y_train)\n",
    "print(\"Best: %f using %s\" % (search_resultReg.best_score_, search_resultReg.best_params_))\n",
    "\n",
    "means = search_resultReg.cv_results_['mean_test_score']\n",
    "stds = search_resultReg.cv_results_['std_test_score']\n",
    "params = search_resultReg.cv_results_['params']\n",
    "\n",
    "for mean, stdev, param in zip(means, stds, params):\n",
    "    print(\"%f (%f) with: %r\" % (mean, stdev, param))\n"
   ]
  },
  {
   "cell_type": "code",
   "execution_count": 16,
   "metadata": {},
   "outputs": [
    {
     "data": {
      "text/plain": [
       "-0.030424975838875563"
      ]
     },
     "execution_count": 16,
     "metadata": {},
     "output_type": "execute_result"
    }
   ],
   "source": [
    "search_resultReg.score(x_train, y_train)\n"
   ]
  },
  {
   "cell_type": "code",
   "execution_count": 8,
   "metadata": {},
   "outputs": [
    {
     "data": {
      "text/plain": [
       "<tensorflow.python.keras.callbacks.History at 0x7feb9c045be0>"
      ]
     },
     "execution_count": 8,
     "metadata": {},
     "output_type": "execute_result"
    }
   ],
   "source": [
    "kfold5 = KFold(n_splits=5, random_state=1, shuffle=True)                        \n",
    "dnn_tuned = KerasRegressor(build_fn=create_model, verbose=0, epochs = 50, batch_size = 20, learn_rate = 0.01)\n",
    "\n",
    "dnn_tuned.fit(x_train, y_train)"
   ]
  },
  {
   "cell_type": "code",
   "execution_count": 19,
   "metadata": {},
   "outputs": [],
   "source": [
    "\n",
    "MAE_dnn = cross_val_score(dnn_tuned, x, y, scoring='neg_mean_absolute_error',cv = kfold5, n_jobs=-1)\n",
    "RMSE_dnn = cross_val_score(dnn_tuned, x, y, scoring='neg_root_mean_squared_error',cv = kfold5, n_jobs=-1)\n",
    "MSE_dnn = cross_val_score(dnn_tuned, x, y, scoring='neg_mean_squared_error',cv = kfold5, n_jobs=-1)\n",
    "Rsquared_dnn = cross_val_score(dnn_tuned, x, y, scoring='r2',cv = kfold5, n_jobs=-1)\n",
    "\n"
   ]
  },
  {
   "cell_type": "code",
   "execution_count": 20,
   "metadata": {},
   "outputs": [
    {
     "data": {
      "text/plain": [
       "array([-28.36267061,   0.14554767, -14.48806062,  -5.29271992,\n",
       "        -2.5523601 ])"
      ]
     },
     "execution_count": 20,
     "metadata": {},
     "output_type": "execute_result"
    }
   ],
   "source": [
    "MAE_dnn\n",
    "RMSE_dnn\n",
    "MSE_dnn\n",
    "Rsquared_dnn"
   ]
  },
  {
   "cell_type": "markdown",
   "metadata": {},
   "source": [
    "### Random Forest Regressor"
   ]
  },
  {
   "cell_type": "code",
   "execution_count": null,
   "metadata": {
    "collapsed": true
   },
   "outputs": [],
   "source": [
    "from sklearn.ensemble import RandomForestRegressor\n",
    "\n",
    "# define the model\n",
    "RFmodel = RandomForestRegressor()\n",
    "\n",
    "#fit the model on training data\n",
    "RFmodel.fit(x_train, y_train.ravel())\n",
    "\n",
    "\n",
    "# make a prediction on test data\n",
    "rf_pred = RFmodel.predict(x_test)\n",
    "MSE = mean_squared_error(y_test, rf_pred)"
   ]
  },
  {
   "cell_type": "code",
   "execution_count": 16,
   "metadata": {},
   "outputs": [
    {
     "name": "stdout",
     "output_type": "stream",
     "text": [
      "Fitting 3 folds for each of 50 candidates, totalling 150 fits\n"
     ]
    }
   ],
   "source": [
    "#parameter tuning with randomsearchCV\n",
    "\n",
    "# Number of trees in random forest\n",
    "n_estimators = [int(x) for x in np.linspace(start = 100, stop = 1500, num = 10)]\n",
    "# Number of features to consider at every split\n",
    "max_features = ['auto', 'sqrt']\n",
    "# Maximum number of levels in tree\n",
    "max_depth = [int(x) for x in np.linspace(10, 110, num = 11)]\n",
    "max_depth.append(None)\n",
    "# Minimum number of samples required to split a node\n",
    "min_samples_split = [2, 5, 10]\n",
    "# Minimum number of samples required at each leaf node\n",
    "min_samples_leaf = [1, 2, 4]\n",
    "# Method of selecting samples for training each tree\n",
    "bootstrap = [True, False]\n",
    "\n",
    "# Create the random grid\n",
    "\n",
    "random_grid = {'n_estimators': n_estimators,\n",
    "               'max_features': max_features,\n",
    "               'max_depth': max_depth,\n",
    "               'min_samples_split': min_samples_split,\n",
    "               'min_samples_leaf': min_samples_leaf,\n",
    "               'bootstrap': bootstrap}\n",
    "\n",
    "\n",
    "# Random search of parameters, using 3 fold cross validation, \n",
    "# search across 50 different combinations, and use all available cores\n",
    "rf_random = RandomizedSearchCV(estimator = RFmodel, param_distributions = random_grid, n_iter = 50, cv = 3, verbose=2, random_state=42, n_jobs = -1)\n",
    "# Fit the random search model\n",
    "rf_random = rf_random.fit(x_train, y_train.ravel())"
   ]
  },
  {
   "cell_type": "code",
   "execution_count": 20,
   "metadata": {},
   "outputs": [
    {
     "data": {
      "text/plain": [
       "{'n_estimators': 1500,\n",
       " 'min_samples_split': 2,\n",
       " 'min_samples_leaf': 2,\n",
       " 'max_features': 'auto',\n",
       " 'max_depth': 90,\n",
       " 'bootstrap': True}"
      ]
     },
     "execution_count": 20,
     "metadata": {},
     "output_type": "execute_result"
    }
   ],
   "source": [
    "rf_random.best_params_\n"
   ]
  },
  {
   "cell_type": "code",
   "execution_count": 16,
   "metadata": {
    "collapsed": true
   },
   "outputs": [],
   "source": [
    "rf_tuned = RandomForestRegressor(n_estimators = 566,\n",
    " min_samples_split = 5,\n",
    " min_samples_leaf = 2,\n",
    " max_depth = None,\n",
    " bootstrap= True)"
   ]
  },
  {
   "cell_type": "code",
   "execution_count": 22,
   "metadata": {},
   "outputs": [
    {
     "data": {
      "text/plain": [
       "0.9252415208581706"
      ]
     },
     "execution_count": 22,
     "metadata": {},
     "output_type": "execute_result"
    }
   ],
   "source": [
    "rf_random.score(x_train, y_train)\n"
   ]
  },
  {
   "cell_type": "code",
   "execution_count": 17,
   "metadata": {},
   "outputs": [],
   "source": [
    "MAE_rf = cross_val_score(rf_tuned, x, y, scoring='neg_mean_absolute_error',cv = kfold5, n_jobs=-1)\n",
    "RMSE_rf = cross_val_score(rf_tuned, x, y, scoring='neg_root_mean_squared_error',cv = kfold5, n_jobs=-1)\n",
    "MSE_rf = cross_val_score(rf_tuned, x, y, scoring='neg_mean_squared_error',cv = kfold5, n_jobs=-1)\n",
    "Rsquared_rf = cross_val_score(rf_tuned, x, y, scoring='r2',cv = kfold5, n_jobs=-1)\n",
    "\n"
   ]
  },
  {
   "cell_type": "code",
   "execution_count": 18,
   "metadata": {},
   "outputs": [
    {
     "data": {
      "text/plain": [
       "array([0.76583975, 0.70052481, 0.76869645, 0.74369833, 0.73968698])"
      ]
     },
     "execution_count": 18,
     "metadata": {},
     "output_type": "execute_result"
    }
   ],
   "source": [
    "MAE_rf\n",
    "RMSE_rf\n",
    "MSE_rf\n",
    "Rsquared_rf"
   ]
  },
  {
   "cell_type": "code",
   "execution_count": 21,
   "metadata": {},
   "outputs": [
    {
     "data": {
      "text/plain": [
       "['Randomforestregressor.pkl']"
      ]
     },
     "execution_count": 21,
     "metadata": {},
     "output_type": "execute_result"
    }
   ],
   "source": [
    "import joblib\n",
    "joblib.dump(rf_random, 'Randomforestregressor.pkl')"
   ]
  },
  {
   "cell_type": "markdown",
   "metadata": {},
   "source": [
    "### KNN Regression"
   ]
  },
  {
   "cell_type": "code",
   "execution_count": 23,
   "metadata": {
    "collapsed": true
   },
   "outputs": [],
   "source": [
    "from sklearn.neighbors import KNeighborsRegressor\n"
   ]
  },
  {
   "cell_type": "code",
   "execution_count": 24,
   "metadata": {
    "collapsed": true
   },
   "outputs": [],
   "source": [
    "# Select an algorithm\n",
    "knn = KNeighborsRegressor()\n",
    "hp_candidates = [{'n_neighbors': [2,3,4,5,6], 'weights': ['uniform','distance']}]\n",
    "knngrid = GridSearchCV(estimator=knn, param_grid=hp_candidates, cv=3, n_jobs=-1)\n",
    "knngrid = knngrid.fit(x_train, y_train)\n"
   ]
  },
  {
   "cell_type": "code",
   "execution_count": 25,
   "metadata": {},
   "outputs": [
    {
     "name": "stdout",
     "output_type": "stream",
     "text": [
      "0.6498249117739794\n",
      "KNeighborsRegressor(n_neighbors=6, weights='distance')\n",
      "{'n_neighbors': 6, 'weights': 'distance'}\n"
     ]
    }
   ],
   "source": [
    "# Get the results\n",
    "print(knngrid.best_score_)\n",
    "print(knngrid.best_estimator_)\n",
    "print(knngrid.best_params_)"
   ]
  },
  {
   "cell_type": "code",
   "execution_count": 24,
   "metadata": {},
   "outputs": [],
   "source": [
    "knn_tuned = KNeighborsRegressor(n_neighbors=6, weights='distance')"
   ]
  },
  {
   "cell_type": "code",
   "execution_count": 27,
   "metadata": {},
   "outputs": [],
   "source": [
    "MAE_knn = cross_val_score(knn_tuned, x, y, scoring='neg_mean_absolute_error',cv = kfold5, n_jobs=-1)\n",
    "RMSE_knn = cross_val_score(knn_tuned, x, y, scoring='neg_root_mean_squared_error',cv = kfold5, n_jobs=-1)\n",
    "MSE_knn = cross_val_score(knn_tuned, x, y, scoring='neg_mean_squared_error',cv = kfold5, n_jobs=-1)\n",
    "Rsquared_knn = cross_val_score(knn_tuned, x, y, scoring='r2',cv = kfold5, n_jobs=-1)\n"
   ]
  },
  {
   "cell_type": "code",
   "execution_count": 28,
   "metadata": {},
   "outputs": [
    {
     "data": {
      "text/plain": [
       "array([0.5503502 , 0.50135989, 0.53736171, 0.48192004, 0.50364643])"
      ]
     },
     "execution_count": 28,
     "metadata": {},
     "output_type": "execute_result"
    }
   ],
   "source": [
    "MAE_knn\n",
    "RMSE_knn\n",
    "MSE_knn\n",
    "Rsquared_knn"
   ]
  },
  {
   "cell_type": "code",
   "execution_count": 26,
   "metadata": {},
   "outputs": [
    {
     "data": {
      "text/plain": [
       "['KNNgridregressor.pkl']"
      ]
     },
     "execution_count": 26,
     "metadata": {},
     "output_type": "execute_result"
    }
   ],
   "source": [
    "joblib.dump(knngrid, 'KNNgridregressor.pkl')"
   ]
  },
  {
   "cell_type": "code",
   "execution_count": 37,
   "metadata": {
    "collapsed": true
   },
   "outputs": [],
   "source": [
    "# prepare configuration for cross validation test harness\n",
    "seed = 7\n",
    "kfold5 = KFold(n_splits=5, random_state=1, shuffle=True)                        \n",
    "\n",
    "# prepare models\n",
    "MAE = [('DNN', MAE_dnn),('Random Forest', MAE_rf), ('KNN', MAE_knn)]\n",
    "RMSE = [('DNN', RMSE_dnn),('Random Forest', RMSE_rf), ('KNN', RMSE_knn)]\n",
    "MSE = [('DNN', MSE_dnn),('Random Forest', MSE_rf), ('KNN', MSE_knn)]\n",
    "rsquared = [('DNN', Rsquared_dnn),('Random Forest', Rsquared_rf), ('KNN', Rsquared_knn)]\n",
    "\n",
    "scores = [MAE, RMSE, MSE, rsquared]\n",
    "\n",
    "\n"
   ]
  },
  {
   "cell_type": "code",
   "execution_count": 57,
   "metadata": {},
   "outputs": [
    {
     "name": "stdout",
     "output_type": "stream",
     "text": [
      "DNN: -0.160679 (0.104739)\n",
      "Random Forest: -0.021448 (0.000285)\n",
      "KNN: -0.030681 (0.000545)\n"
     ]
    },
    {
     "data": {
      "image/png": "[encoded data removed]",
      "text/plain": [
       "<Figure size 432x288 with 1 Axes>"
      ]
     },
     "metadata": {
      "needs_background": "light"
     },
     "output_type": "display_data"
    }
   ],
   "source": [
    "results = []\n",
    "names = []\n",
    "\n",
    "\n",
    "for (name, score) in MAE:\n",
    "    names.append(name)\n",
    "    msg = \"%s: %f (%f)\" % (name, score.mean(), score.std())\n",
    "    results.append(score)\n",
    "    print(msg)\n",
    "    \n",
    "\n",
    "# boxplot algorithm comparison\n",
    "fig = plt.figure()\n",
    "fig.suptitle('MAE Comparison')\n",
    "ax = fig.add_subplot(111)\n",
    "plt.boxplot(results)\n",
    "ax.set_xticklabels(names)\n",
    "plt.show()\n",
    "\n"
   ]
  },
  {
   "cell_type": "code",
   "execution_count": 56,
   "metadata": {},
   "outputs": [
    {
     "name": "stdout",
     "output_type": "stream",
     "text": [
      "DNN: -0.059399 (0.068750)\n",
      "Random Forest: -0.001314 (0.000137)\n",
      "KNN: -0.002491 (0.000131)\n"
     ]
    },
    {
     "data": {
      "image/png": "[encoded data removed]",
      "text/plain": [
       "<Figure size 432x288 with 1 Axes>"
      ]
     },
     "metadata": {
      "needs_background": "light"
     },
     "output_type": "display_data"
    }
   ],
   "source": [
    "results = []\n",
    "names = []\n",
    "\n",
    "for (name, score) in MSE:\n",
    "    names.append(name)\n",
    "    msg = \"%s: %f (%f)\" % (name, score.mean(), score.std())\n",
    "    results.append(score)\n",
    "    print(msg)\n",
    "    \n",
    "\n",
    "# boxplot algorithm comparison\n",
    "fig = plt.figure()\n",
    "fig.suptitle('MSE Comparison')\n",
    "ax = fig.add_subplot(111)\n",
    "plt.boxplot(results)\n",
    "ax.set_xticklabels(names)\n",
    "plt.show()"
   ]
  },
  {
   "cell_type": "code",
   "execution_count": null,
   "metadata": {},
   "outputs": [],
   "source": []
  },
  {
   "cell_type": "code",
   "execution_count": 47,
   "metadata": {},
   "outputs": [
    {
     "name": "stdout",
     "output_type": "stream",
     "text": [
      "DNN: -0.303670 (0.188309)\n",
      "Random Forest: -0.036170 (0.001856)\n",
      "KNN: -0.049894 (0.001331)\n"
     ]
    },
    {
     "data": {
      "image/png": "[encoded data removed]",
      "text/plain": [
       "<Figure size 432x288 with 1 Axes>"
      ]
     },
     "metadata": {
      "needs_background": "light"
     },
     "output_type": "display_data"
    }
   ],
   "source": [
    "results = []\n",
    "names = []\n",
    "\n",
    "for (name, score) in RMSE:\n",
    "    names.append(name)\n",
    "    msg = \"%s: %f (%f)\" % (name, score.mean(), score.std())\n",
    "    results.append(score)\n",
    "    print(msg)\n",
    "    \n",
    "\n",
    "# boxplot algorithm comparison\n",
    "fig = plt.figure()\n",
    "fig.suptitle('Algorithm Comparison')\n",
    "ax = fig.add_subplot(111)\n",
    "plt.boxplot(results)\n",
    "ax.set_xticklabels(names)\n",
    "plt.show()"
   ]
  },
  {
   "cell_type": "code",
   "execution_count": 46,
   "metadata": {},
   "outputs": [
    {
     "name": "stdout",
     "output_type": "stream",
     "text": [
      "DNN: -10.110053 (10.371381)\n",
      "Random Forest: 0.743689 (0.024475)\n",
      "KNN: 0.514928 (0.025135)\n"
     ]
    },
    {
     "data": {
      "image/png": "[encoded data removed]",
      "text/plain": [
       "<Figure size 432x288 with 1 Axes>"
      ]
     },
     "metadata": {
      "needs_background": "light"
     },
     "output_type": "display_data"
    }
   ],
   "source": [
    "results = []\n",
    "names = []\n",
    "\n",
    "for (name, score) in rsquared:\n",
    "    names.append(name)\n",
    "    msg = \"%s: %f (%f)\" % (name, score.mean(), score.std())\n",
    "    results.append(score)\n",
    "    print(msg)\n",
    "    \n",
    "\n",
    "# boxplot algorithm comparison\n",
    "fig = plt.figure()\n",
    "fig.suptitle('Rsquared Comparison')\n",
    "ax = fig.add_subplot(111)\n",
    "plt.boxplot(results)\n",
    "ax.set_xticklabels(names)\n",
    "plt.show()"
   ]
  },
  {
   "cell_type": "code",
   "execution_count": 3,
   "metadata": {
    "collapsed": true
   },
   "outputs": [],
   "source": [
    "#to reload trained models\n",
    "\n",
    "import joblib\n",
    "knngrid = joblib.load('KNNgridregressor.pkl')\n",
    "rf_random = joblib.load('Randomforestregressor.pkl')\n",
    "search_resultReg = joblib.load( 'DNNregressor.pkl')"
   ]
  }
 ],
 "metadata": {
  "kernelspec": {
   "display_name": "Sadia2",
   "language": "python",
   "name": "sadia2"
  },
  "language_info": {
   "codemirror_mode": {
    "name": "ipython",
    "version": 3
   },
   "file_extension": ".py",
   "mimetype": "text/x-python",
   "name": "python",
   "nbconvert_exporter": "python",
   "pygments_lexer": "ipython3",
   "version": "3.6.13"
  }
 },
 "nbformat": 4,
 "nbformat_minor": 2
}
