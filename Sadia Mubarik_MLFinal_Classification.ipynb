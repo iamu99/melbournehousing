{
 "cells": [
  {
   "cell_type": "code",
   "execution_count": 4,
   "metadata": {},
   "outputs": [
    {
     "name": "stderr",
     "output_type": "stream",
     "text": [
      "Using TensorFlow backend.\n",
      "/Users/sadiamubarik/anaconda3/envs/Sadia2/lib/python3.6/site-packages/sklearn/utils/validation.py:63: DataConversionWarning: A column-vector y was passed when a 1d array was expected. Please change the shape of y to (n_samples, ), for example using ravel().\n",
      "  return f(*args, **kwargs)\n"
     ]
    }
   ],
   "source": [
    "from tensorflow.keras import Sequential\n",
    "from tensorflow.keras.layers import Dense, Dropout\n",
    "from keras.wrappers.scikit_learn import KerasRegressor\n",
    "from sklearn.model_selection import RandomizedSearchCV, GridSearchCV\n",
    "from sklearn.model_selection import cross_val_score\n",
    "from sklearn.model_selection import KFold\n",
    "from sklearn.preprocessing import MinMaxScaler\n",
    "from sklearn.metrics import classification_report\n",
    "\n",
    "from keras.utils import to_categorical\n",
    "\n",
    "import sklearn\n",
    "import pandas as pd\n",
    "import numpy as np\n",
    "import seaborn as sns\n",
    "import matplotlib.pyplot as plt\n",
    "priceData = pd.read_csv('melb_data.csv')\n",
    "\n",
    "\n",
    "#Discretize the data based on house price\n",
    "priceData['Label'] = pd.qcut(priceData['Price'],5,labels = False)\n",
    "\n",
    "#drop the price column\n",
    "priceData.drop(['Price'], axis = 1)\n",
    "\n",
    "#encode the categorical variables\n",
    "\n",
    "from sklearn.preprocessing import LabelEncoder\n",
    "encoder = LabelEncoder()\n",
    "priceData['encoded_suburb'] = encoder.fit_transform(priceData['Suburb'])\n",
    "priceData['encoded_type'] = encoder.fit_transform(priceData['Type'])\n",
    "priceData['encoded_sellerG'] = encoder.fit_transform(priceData['SellerG'])\n",
    "priceData['encoded_councilarea'] = encoder.fit_transform(priceData['CouncilArea'])\n",
    "priceData['encoded_regionname'] = encoder.fit_transform(priceData['Regionname'])\n",
    "\n",
    "\n",
    "\n",
    "#impute missing values for Car, Landsize, BuildingArea, YearBuilt, CouncilArea\n",
    "from sklearn.impute import SimpleImputer\n",
    "from sklearn.impute import KNNImputer\n",
    "\n",
    "imputer0 = KNNImputer()\n",
    "imputer1 = SimpleImputer(missing_values=np.nan, strategy='mean')\n",
    "imputer2 = SimpleImputer(missing_values=np.nan, strategy='median')\n",
    "imputer3 = SimpleImputer(missing_values=np.nan, strategy='most_frequent')\n",
    "\n",
    "priceData[['Car']] = imputer2.fit_transform(priceData[['Car']])\n",
    "priceData[['Landsize']] = imputer1.fit_transform(priceData[['Landsize']])\n",
    "priceData[['BuildingArea']] = imputer0.fit_transform(priceData[['BuildingArea']])\n",
    "priceData[['YearBuilt']] = imputer0.fit_transform(priceData[['YearBuilt']])\n",
    "priceData[['CouncilArea']] = imputer3.fit_transform(priceData[['CouncilArea']])\n",
    "\n",
    "#prepare data for the model based on selected features\n",
    "\n",
    "x = priceData[['Rooms', 'Bedroom2', 'Bathroom','Car', 'YearBuilt', 'Lattitude', 'Longtitude', 'encoded_type']].copy()\n",
    "y = priceData[['Label']].copy()\n",
    "\n",
    "#scale the data\n",
    "scaler = MinMaxScaler()\n",
    "x = scaler.fit_transform(x)\n",
    "\n",
    "#labelencode the y_values\n",
    "lab_enc = LabelEncoder()\n",
    "encoded = lab_enc.fit_transform(y)\n",
    "\n",
    "#split into train and test \n",
    "from sklearn.model_selection import train_test_split\n",
    "x_train, x_test, y_train, y_test = train_test_split(x, y, test_size=0.2, random_state = 1)\n",
    "y = to_categorical(y)\n"
   ]
  },
  {
   "cell_type": "code",
   "execution_count": 5,
   "metadata": {
    "collapsed": true
   },
   "outputs": [],
   "source": [
    "#categorically encode the labels for multi-class classification problem \n",
    "train_y1 = to_categorical(y_train)\n",
    "test_y1 = to_categorical(y_test)\n",
    "\n",
    "\n",
    "from tensorflow.keras.wrappers.scikit_learn import KerasClassifier\n",
    "\n",
    "def create_model(neurons=1, dropout_rate=0.0, learn_rate=0.01):\n",
    "    dnn = Sequential()\n",
    "    dnn.add(Dense(neurons ,input_shape=(x.shape[1],), activation = 'relu')) \n",
    "    dnn.add(Dropout(dropout_rate))\n",
    "    dnn.add(Dense(5, activation = 'softmax'))\n",
    "    dnn.compile(loss='categorical_crossentropy', optimizer='adam', metrics=['accuracy']) \n",
    "    return dnn\n",
    "\n",
    "dnn = KerasClassifier(build_fn=create_model, verbose=0)\n",
    "\n",
    "\n"
   ]
  },
  {
   "cell_type": "code",
   "execution_count": 6,
   "metadata": {},
   "outputs": [
    {
     "name": "stderr",
     "output_type": "stream",
     "text": [
      "/Users/sadiamubarik/anaconda3/envs/Sadia2/lib/python3.6/site-packages/sklearn/model_selection/_search.py:921: UserWarning: One or more of the test scores are non-finite: [nan nan nan nan nan nan nan nan nan nan]\n",
      "  category=UserWarning\n"
     ]
    },
    {
     "name": "stdout",
     "output_type": "stream",
     "text": [
      "Best: nan using {'neurons': 40, 'learn_rate': 0.2, 'epochs': 50, 'dropout_rate': 0.0, 'batch_size': 20}\n",
      "nan (nan) with: {'neurons': 40, 'learn_rate': 0.2, 'epochs': 50, 'dropout_rate': 0.0, 'batch_size': 20}\n",
      "nan (nan) with: {'neurons': 40, 'learn_rate': 0.01, 'epochs': 10, 'dropout_rate': 0.1, 'batch_size': 10}\n",
      "nan (nan) with: {'neurons': 32, 'learn_rate': 0.001, 'epochs': 10, 'dropout_rate': 0.1, 'batch_size': 40}\n",
      "nan (nan) with: {'neurons': 32, 'learn_rate': 0.001, 'epochs': 50, 'dropout_rate': 0.0, 'batch_size': 10}\n",
      "nan (nan) with: {'neurons': 40, 'learn_rate': 0.001, 'epochs': 10, 'dropout_rate': 0.0, 'batch_size': 20}\n",
      "nan (nan) with: {'neurons': 40, 'learn_rate': 0.001, 'epochs': 10, 'dropout_rate': 0.1, 'batch_size': 40}\n",
      "nan (nan) with: {'neurons': 40, 'learn_rate': 0.01, 'epochs': 50, 'dropout_rate': 0.1, 'batch_size': 20}\n",
      "nan (nan) with: {'neurons': 40, 'learn_rate': 0.001, 'epochs': 50, 'dropout_rate': 0.1, 'batch_size': 20}\n",
      "nan (nan) with: {'neurons': 40, 'learn_rate': 0.001, 'epochs': 50, 'dropout_rate': 0.2, 'batch_size': 10}\n",
      "nan (nan) with: {'neurons': 32, 'learn_rate': 0.2, 'epochs': 10, 'dropout_rate': 0.1, 'batch_size': 20}\n"
     ]
    }
   ],
   "source": [
    "batch_size = [10, 20, 40]\n",
    "epochs = [10, 50]\n",
    "neurons = [16, 32, 40]\n",
    "dropout_rate = [0.0, 0.1, 0.2]\n",
    "learn_rate = [0.001, 0.01, 0.1, 0.2]\n",
    "\n",
    "param_grid = dict(batch_size=batch_size, epochs=epochs, neurons = neurons,dropout_rate = dropout_rate, learn_rate=learn_rate)\n",
    "search = RandomizedSearchCV(estimator=dnn, param_distributions=param_grid, n_jobs=-1, cv=3, scoring = \"accuracy\")\n",
    "search_result = search.fit(x_train, train_y1)\n",
    "print(\"Best: %f using %s\" % (search_result.best_score_, search_result.best_params_))\n",
    "\n",
    "means = search_result.cv_results_['mean_test_score']\n",
    "stds = search_result.cv_results_['std_test_score']\n",
    "params = search_result.cv_results_['params']\n",
    "\n",
    "for mean, stdev, param in zip(means, stds, params):\n",
    "    print(\"%f (%f) with: %r\" % (mean, stdev, param))"
   ]
  },
  {
   "cell_type": "code",
   "execution_count": 7,
   "metadata": {},
   "outputs": [
    {
     "data": {
      "text/plain": [
       "RandomizedSearchCV(cv=3,\n",
       "                   estimator=<tensorflow.python.keras.wrappers.scikit_learn.KerasClassifier object at 0x7fd2315d0780>,\n",
       "                   n_jobs=-1,\n",
       "                   param_distributions={'batch_size': [10, 20, 40],\n",
       "                                        'dropout_rate': [0.0, 0.1, 0.2],\n",
       "                                        'epochs': [10, 50],\n",
       "                                        'learn_rate': [0.001, 0.01, 0.1, 0.2],\n",
       "                                        'neurons': [16, 32, 40]},\n",
       "                   scoring='accuracy')"
      ]
     },
     "execution_count": 7,
     "metadata": {},
     "output_type": "execute_result"
    }
   ],
   "source": [
    "search_result"
   ]
  },
  {
   "cell_type": "code",
   "execution_count": null,
   "metadata": {
    "collapsed": true
   },
   "outputs": [],
   "source": [
    "\n",
    "import joblib\n",
    "\n",
    "#save your model or results\n",
    "joblib.dump(search_result, 'dnn_regressor.pkl')\n",
    "\n"
   ]
  },
  {
   "cell_type": "markdown",
   "metadata": {},
   "source": [
    "### Support Vector Machine\n"
   ]
  },
  {
   "cell_type": "code",
   "execution_count": 19,
   "metadata": {},
   "outputs": [
    {
     "name": "stdout",
     "output_type": "stream",
     "text": [
      "              precision    recall  f1-score   support\n",
      "\n",
      "           0       0.71      0.71      0.71       550\n",
      "           1       0.41      0.47      0.44       529\n",
      "           2       0.42      0.34      0.37       554\n",
      "           3       0.39      0.41      0.40       532\n",
      "           4       0.63      0.64      0.64       551\n",
      "\n",
      "    accuracy                           0.51      2716\n",
      "   macro avg       0.51      0.51      0.51      2716\n",
      "weighted avg       0.51      0.51      0.51      2716\n",
      "\n",
      "Fitting 5 folds for each of 36 candidates, totalling 180 fits\n",
      "[CV 1/5] END .....................C=0.1, gamma=1, kernel=rbf; total time=   7.4s\n",
      "[CV 2/5] END .....................C=0.1, gamma=1, kernel=rbf; total time=   7.8s\n",
      "[CV 3/5] END .....................C=0.1, gamma=1, kernel=rbf; total time=   7.5s\n",
      "[CV 4/5] END .....................C=0.1, gamma=1, kernel=rbf; total time=   7.3s\n",
      "[CV 5/5] END .....................C=0.1, gamma=1, kernel=rbf; total time=   7.4s\n",
      "[CV 1/5] END .................C=0.1, gamma=1, kernel=sigmoid; total time=   7.7s\n",
      "[CV 2/5] END .................C=0.1, gamma=1, kernel=sigmoid; total time=   7.6s\n",
      "[CV 3/5] END .................C=0.1, gamma=1, kernel=sigmoid; total time=   7.4s\n",
      "[CV 4/5] END .................C=0.1, gamma=1, kernel=sigmoid; total time=   7.5s\n",
      "[CV 5/5] END .................C=0.1, gamma=1, kernel=sigmoid; total time=   7.5s\n",
      "[CV 1/5] END ....................C=0.1, gamma=1, kernel=poly; total time=   4.5s\n",
      "[CV 2/5] END ....................C=0.1, gamma=1, kernel=poly; total time=   3.9s\n",
      "[CV 3/5] END ....................C=0.1, gamma=1, kernel=poly; total time=   3.9s\n",
      "[CV 4/5] END ....................C=0.1, gamma=1, kernel=poly; total time=   4.0s\n",
      "[CV 5/5] END ....................C=0.1, gamma=1, kernel=poly; total time=   3.9s\n",
      "[CV 1/5] END ...................C=0.1, gamma=0.1, kernel=rbf; total time=   7.7s\n",
      "[CV 2/5] END ...................C=0.1, gamma=0.1, kernel=rbf; total time=   7.8s\n",
      "[CV 3/5] END ...................C=0.1, gamma=0.1, kernel=rbf; total time=   7.6s\n",
      "[CV 4/5] END ...................C=0.1, gamma=0.1, kernel=rbf; total time=   7.7s\n",
      "[CV 5/5] END ...................C=0.1, gamma=0.1, kernel=rbf; total time=   7.7s\n",
      "[CV 1/5] END ...............C=0.1, gamma=0.1, kernel=sigmoid; total time=   7.1s\n",
      "[CV 2/5] END ...............C=0.1, gamma=0.1, kernel=sigmoid; total time=   8.2s\n",
      "[CV 3/5] END ...............C=0.1, gamma=0.1, kernel=sigmoid; total time=  10.0s\n",
      "[CV 4/5] END ...............C=0.1, gamma=0.1, kernel=sigmoid; total time=   7.1s\n",
      "[CV 5/5] END ...............C=0.1, gamma=0.1, kernel=sigmoid; total time=   6.8s\n",
      "[CV 1/5] END ..................C=0.1, gamma=0.1, kernel=poly; total time=   6.1s\n",
      "[CV 2/5] END ..................C=0.1, gamma=0.1, kernel=poly; total time=   6.7s\n",
      "[CV 3/5] END ..................C=0.1, gamma=0.1, kernel=poly; total time=   6.1s\n",
      "[CV 4/5] END ..................C=0.1, gamma=0.1, kernel=poly; total time=   6.3s\n",
      "[CV 5/5] END ..................C=0.1, gamma=0.1, kernel=poly; total time=   6.1s\n",
      "[CV 1/5] END ..................C=0.1, gamma=0.01, kernel=rbf; total time=   9.6s\n",
      "[CV 2/5] END ..................C=0.1, gamma=0.01, kernel=rbf; total time=   9.6s\n",
      "[CV 3/5] END ..................C=0.1, gamma=0.01, kernel=rbf; total time=   9.7s\n",
      "[CV 4/5] END ..................C=0.1, gamma=0.01, kernel=rbf; total time=   9.7s\n",
      "[CV 5/5] END ..................C=0.1, gamma=0.01, kernel=rbf; total time=   9.9s\n",
      "[CV 1/5] END ..............C=0.1, gamma=0.01, kernel=sigmoid; total time=   7.1s\n",
      "[CV 2/5] END ..............C=0.1, gamma=0.01, kernel=sigmoid; total time=   7.4s\n",
      "[CV 3/5] END ..............C=0.1, gamma=0.01, kernel=sigmoid; total time=   6.8s\n",
      "[CV 4/5] END ..............C=0.1, gamma=0.01, kernel=sigmoid; total time=   6.8s\n",
      "[CV 5/5] END ..............C=0.1, gamma=0.01, kernel=sigmoid; total time=   6.8s\n",
      "[CV 1/5] END .................C=0.1, gamma=0.01, kernel=poly; total time=   6.1s\n",
      "[CV 2/5] END .................C=0.1, gamma=0.01, kernel=poly; total time=   6.2s\n",
      "[CV 3/5] END .................C=0.1, gamma=0.01, kernel=poly; total time=   6.2s\n",
      "[CV 4/5] END .................C=0.1, gamma=0.01, kernel=poly; total time=   6.4s\n",
      "[CV 5/5] END .................C=0.1, gamma=0.01, kernel=poly; total time=   6.3s\n",
      "[CV 1/5] END .......................C=1, gamma=1, kernel=rbf; total time=   6.5s\n",
      "[CV 2/5] END .......................C=1, gamma=1, kernel=rbf; total time=   6.5s\n",
      "[CV 3/5] END .......................C=1, gamma=1, kernel=rbf; total time=   6.5s\n",
      "[CV 4/5] END .......................C=1, gamma=1, kernel=rbf; total time=   6.5s\n",
      "[CV 5/5] END .......................C=1, gamma=1, kernel=rbf; total time=   6.6s\n",
      "[CV 1/5] END ...................C=1, gamma=1, kernel=sigmoid; total time=   5.7s\n",
      "[CV 2/5] END ...................C=1, gamma=1, kernel=sigmoid; total time=   6.1s\n",
      "[CV 3/5] END ...................C=1, gamma=1, kernel=sigmoid; total time=   6.0s\n",
      "[CV 4/5] END ...................C=1, gamma=1, kernel=sigmoid; total time=   6.3s\n",
      "[CV 5/5] END ...................C=1, gamma=1, kernel=sigmoid; total time=   6.8s\n",
      "[CV 1/5] END ......................C=1, gamma=1, kernel=poly; total time=   4.6s\n",
      "[CV 2/5] END ......................C=1, gamma=1, kernel=poly; total time=   5.1s\n",
      "[CV 3/5] END ......................C=1, gamma=1, kernel=poly; total time=   4.3s\n",
      "[CV 4/5] END ......................C=1, gamma=1, kernel=poly; total time=   3.9s\n",
      "[CV 5/5] END ......................C=1, gamma=1, kernel=poly; total time=   3.7s\n",
      "[CV 1/5] END .....................C=1, gamma=0.1, kernel=rbf; total time=   7.7s\n",
      "[CV 2/5] END .....................C=1, gamma=0.1, kernel=rbf; total time=   9.3s\n",
      "[CV 3/5] END .....................C=1, gamma=0.1, kernel=rbf; total time=   7.5s\n",
      "[CV 4/5] END .....................C=1, gamma=0.1, kernel=rbf; total time=   7.7s\n",
      "[CV 5/5] END .....................C=1, gamma=0.1, kernel=rbf; total time=   7.4s\n",
      "[CV 1/5] END .................C=1, gamma=0.1, kernel=sigmoid; total time=   6.6s\n",
      "[CV 2/5] END .................C=1, gamma=0.1, kernel=sigmoid; total time=   9.4s\n",
      "[CV 3/5] END .................C=1, gamma=0.1, kernel=sigmoid; total time=   6.2s\n",
      "[CV 4/5] END .................C=1, gamma=0.1, kernel=sigmoid; total time=   6.0s\n",
      "[CV 5/5] END .................C=1, gamma=0.1, kernel=sigmoid; total time=   6.0s\n",
      "[CV 1/5] END ....................C=1, gamma=0.1, kernel=poly; total time=   5.0s\n",
      "[CV 2/5] END ....................C=1, gamma=0.1, kernel=poly; total time=   5.0s\n",
      "[CV 3/5] END ....................C=1, gamma=0.1, kernel=poly; total time=   5.1s\n",
      "[CV 4/5] END ....................C=1, gamma=0.1, kernel=poly; total time=   5.0s\n",
      "[CV 5/5] END ....................C=1, gamma=0.1, kernel=poly; total time=   5.0s\n",
      "[CV 1/5] END ....................C=1, gamma=0.01, kernel=rbf; total time=   7.7s\n",
      "[CV 2/5] END ....................C=1, gamma=0.01, kernel=rbf; total time=   7.6s\n",
      "[CV 3/5] END ....................C=1, gamma=0.01, kernel=rbf; total time=   7.6s\n",
      "[CV 4/5] END ....................C=1, gamma=0.01, kernel=rbf; total time=   7.7s\n",
      "[CV 5/5] END ....................C=1, gamma=0.01, kernel=rbf; total time=   7.7s\n",
      "[CV 1/5] END ................C=1, gamma=0.01, kernel=sigmoid; total time=   5.4s\n",
      "[CV 2/5] END ................C=1, gamma=0.01, kernel=sigmoid; total time=   5.3s\n",
      "[CV 3/5] END ................C=1, gamma=0.01, kernel=sigmoid; total time=   5.5s\n",
      "[CV 4/5] END ................C=1, gamma=0.01, kernel=sigmoid; total time=   5.6s\n",
      "[CV 5/5] END ................C=1, gamma=0.01, kernel=sigmoid; total time=   5.4s\n",
      "[CV 1/5] END ...................C=1, gamma=0.01, kernel=poly; total time=   5.7s\n",
      "[CV 2/5] END ...................C=1, gamma=0.01, kernel=poly; total time=   5.9s\n",
      "[CV 3/5] END ...................C=1, gamma=0.01, kernel=poly; total time=   5.7s\n",
      "[CV 4/5] END ...................C=1, gamma=0.01, kernel=poly; total time=   5.8s\n",
      "[CV 5/5] END ...................C=1, gamma=0.01, kernel=poly; total time=   5.8s\n",
      "[CV 1/5] END ......................C=10, gamma=1, kernel=rbf; total time=   5.6s\n",
      "[CV 2/5] END ......................C=10, gamma=1, kernel=rbf; total time=   5.6s\n",
      "[CV 3/5] END ......................C=10, gamma=1, kernel=rbf; total time=   5.5s\n",
      "[CV 4/5] END ......................C=10, gamma=1, kernel=rbf; total time=   5.6s\n",
      "[CV 5/5] END ......................C=10, gamma=1, kernel=rbf; total time=   5.6s\n"
     ]
    },
    {
     "name": "stdout",
     "output_type": "stream",
     "text": [
      "[CV 1/5] END ..................C=10, gamma=1, kernel=sigmoid; total time=   3.7s\n",
      "[CV 2/5] END ..................C=10, gamma=1, kernel=sigmoid; total time=   3.6s\n",
      "[CV 3/5] END ..................C=10, gamma=1, kernel=sigmoid; total time=   3.7s\n",
      "[CV 4/5] END ..................C=10, gamma=1, kernel=sigmoid; total time=   3.7s\n",
      "[CV 5/5] END ..................C=10, gamma=1, kernel=sigmoid; total time=   3.5s\n",
      "[CV 1/5] END .....................C=10, gamma=1, kernel=poly; total time=   4.2s\n",
      "[CV 2/5] END .....................C=10, gamma=1, kernel=poly; total time=   4.2s\n",
      "[CV 3/5] END .....................C=10, gamma=1, kernel=poly; total time=   4.2s\n",
      "[CV 4/5] END .....................C=10, gamma=1, kernel=poly; total time=   4.2s\n",
      "[CV 5/5] END .....................C=10, gamma=1, kernel=poly; total time=   4.2s\n",
      "[CV 1/5] END ....................C=10, gamma=0.1, kernel=rbf; total time=   6.5s\n",
      "[CV 2/5] END ....................C=10, gamma=0.1, kernel=rbf; total time=   6.4s\n",
      "[CV 3/5] END ....................C=10, gamma=0.1, kernel=rbf; total time=   6.5s\n",
      "[CV 4/5] END ....................C=10, gamma=0.1, kernel=rbf; total time=   6.5s\n",
      "[CV 5/5] END ....................C=10, gamma=0.1, kernel=rbf; total time=   6.4s\n",
      "[CV 1/5] END ................C=10, gamma=0.1, kernel=sigmoid; total time=   5.3s\n",
      "[CV 2/5] END ................C=10, gamma=0.1, kernel=sigmoid; total time=   5.3s\n",
      "[CV 3/5] END ................C=10, gamma=0.1, kernel=sigmoid; total time=   5.3s\n",
      "[CV 4/5] END ................C=10, gamma=0.1, kernel=sigmoid; total time=   5.4s\n",
      "[CV 5/5] END ................C=10, gamma=0.1, kernel=sigmoid; total time=   5.3s\n",
      "[CV 1/5] END ...................C=10, gamma=0.1, kernel=poly; total time=   4.4s\n",
      "[CV 2/5] END ...................C=10, gamma=0.1, kernel=poly; total time=   4.3s\n",
      "[CV 3/5] END ...................C=10, gamma=0.1, kernel=poly; total time=   4.4s\n",
      "[CV 4/5] END ...................C=10, gamma=0.1, kernel=poly; total time=   4.5s\n",
      "[CV 5/5] END ...................C=10, gamma=0.1, kernel=poly; total time=   4.4s\n",
      "[CV 1/5] END ...................C=10, gamma=0.01, kernel=rbf; total time=   7.0s\n",
      "[CV 2/5] END ...................C=10, gamma=0.01, kernel=rbf; total time=   7.0s\n",
      "[CV 3/5] END ...................C=10, gamma=0.01, kernel=rbf; total time=   7.1s\n",
      "[CV 4/5] END ...................C=10, gamma=0.01, kernel=rbf; total time=   7.1s\n",
      "[CV 5/5] END ...................C=10, gamma=0.01, kernel=rbf; total time=   7.1s\n",
      "[CV 1/5] END ...............C=10, gamma=0.01, kernel=sigmoid; total time=   4.9s\n",
      "[CV 2/5] END ...............C=10, gamma=0.01, kernel=sigmoid; total time=   4.9s\n",
      "[CV 3/5] END ...............C=10, gamma=0.01, kernel=sigmoid; total time=   4.9s\n",
      "[CV 4/5] END ...............C=10, gamma=0.01, kernel=sigmoid; total time=   4.9s\n",
      "[CV 5/5] END ...............C=10, gamma=0.01, kernel=sigmoid; total time=   4.8s\n",
      "[CV 1/5] END ..................C=10, gamma=0.01, kernel=poly; total time=   5.7s\n",
      "[CV 2/5] END ..................C=10, gamma=0.01, kernel=poly; total time=   5.7s\n",
      "[CV 3/5] END ..................C=10, gamma=0.01, kernel=poly; total time=   5.8s\n",
      "[CV 4/5] END ..................C=10, gamma=0.01, kernel=poly; total time=   5.8s\n",
      "[CV 5/5] END ..................C=10, gamma=0.01, kernel=poly; total time=   5.7s\n",
      "[CV 1/5] END .....................C=100, gamma=1, kernel=rbf; total time=   6.0s\n",
      "[CV 2/5] END .....................C=100, gamma=1, kernel=rbf; total time=   6.1s\n",
      "[CV 3/5] END .....................C=100, gamma=1, kernel=rbf; total time=   6.0s\n",
      "[CV 4/5] END .....................C=100, gamma=1, kernel=rbf; total time=   6.0s\n",
      "[CV 5/5] END .....................C=100, gamma=1, kernel=rbf; total time=   6.4s\n",
      "[CV 1/5] END .................C=100, gamma=1, kernel=sigmoid; total time=   3.5s\n",
      "[CV 2/5] END .................C=100, gamma=1, kernel=sigmoid; total time=   3.4s\n",
      "[CV 3/5] END .................C=100, gamma=1, kernel=sigmoid; total time=   3.5s\n",
      "[CV 4/5] END .................C=100, gamma=1, kernel=sigmoid; total time=   3.5s\n",
      "[CV 5/5] END .................C=100, gamma=1, kernel=sigmoid; total time=   3.2s\n",
      "[CV 1/5] END ....................C=100, gamma=1, kernel=poly; total time=   7.2s\n",
      "[CV 2/5] END ....................C=100, gamma=1, kernel=poly; total time=   7.4s\n",
      "[CV 3/5] END ....................C=100, gamma=1, kernel=poly; total time=   7.4s\n",
      "[CV 4/5] END ....................C=100, gamma=1, kernel=poly; total time=   7.7s\n",
      "[CV 5/5] END ....................C=100, gamma=1, kernel=poly; total time=   7.5s\n",
      "[CV 1/5] END ...................C=100, gamma=0.1, kernel=rbf; total time=   6.2s\n",
      "[CV 2/5] END ...................C=100, gamma=0.1, kernel=rbf; total time=   6.3s\n",
      "[CV 3/5] END ...................C=100, gamma=0.1, kernel=rbf; total time=   6.3s\n",
      "[CV 4/5] END ...................C=100, gamma=0.1, kernel=rbf; total time=   6.2s\n",
      "[CV 5/5] END ...................C=100, gamma=0.1, kernel=rbf; total time=   6.4s\n",
      "[CV 1/5] END ...............C=100, gamma=0.1, kernel=sigmoid; total time=   5.5s\n",
      "[CV 2/5] END ...............C=100, gamma=0.1, kernel=sigmoid; total time=   5.4s\n",
      "[CV 3/5] END ...............C=100, gamma=0.1, kernel=sigmoid; total time=   5.5s\n",
      "[CV 4/5] END ...............C=100, gamma=0.1, kernel=sigmoid; total time=   5.5s\n",
      "[CV 5/5] END ...............C=100, gamma=0.1, kernel=sigmoid; total time=   5.5s\n",
      "[CV 1/5] END ..................C=100, gamma=0.1, kernel=poly; total time=   3.9s\n",
      "[CV 2/5] END ..................C=100, gamma=0.1, kernel=poly; total time=   3.8s\n",
      "[CV 3/5] END ..................C=100, gamma=0.1, kernel=poly; total time=   3.9s\n",
      "[CV 4/5] END ..................C=100, gamma=0.1, kernel=poly; total time=   3.9s\n",
      "[CV 5/5] END ..................C=100, gamma=0.1, kernel=poly; total time=   3.9s\n",
      "[CV 1/5] END ..................C=100, gamma=0.01, kernel=rbf; total time=   6.5s\n",
      "[CV 2/5] END ..................C=100, gamma=0.01, kernel=rbf; total time=   6.7s\n",
      "[CV 3/5] END ..................C=100, gamma=0.01, kernel=rbf; total time=   6.5s\n",
      "[CV 4/5] END ..................C=100, gamma=0.01, kernel=rbf; total time=   6.5s\n",
      "[CV 5/5] END ..................C=100, gamma=0.01, kernel=rbf; total time=   6.6s\n",
      "[CV 1/5] END ..............C=100, gamma=0.01, kernel=sigmoid; total time=   4.4s\n",
      "[CV 2/5] END ..............C=100, gamma=0.01, kernel=sigmoid; total time=   4.4s\n",
      "[CV 3/5] END ..............C=100, gamma=0.01, kernel=sigmoid; total time=   4.4s\n",
      "[CV 4/5] END ..............C=100, gamma=0.01, kernel=sigmoid; total time=   4.6s\n",
      "[CV 5/5] END ..............C=100, gamma=0.01, kernel=sigmoid; total time=   4.4s\n",
      "[CV 1/5] END .................C=100, gamma=0.01, kernel=poly; total time=   5.7s\n",
      "[CV 2/5] END .................C=100, gamma=0.01, kernel=poly; total time=   5.7s\n",
      "[CV 4/5] END .................C=100, gamma=0.01, kernel=poly; total time=   5.9s\n",
      "[CV 5/5] END .................C=100, gamma=0.01, kernel=poly; total time=   5.7s\n"
     ]
    }
   ],
   "source": [
    "from sklearn.svm import SVC\n",
    "svm = SVC()\n",
    "svm.fit(x_train, y_train.values.ravel())\n",
    "  \n",
    "# print prediction results\n",
    "svm_pred = svm.predict(x_test)\n",
    "print(classification_report(y_test, svm_pred))\n",
    "\n",
    "# defining parameter range\n",
    "param_grid_svm = {'C': [0.1, 1, 10, 100], \n",
    "              'gamma': [1, 0.1, 0.01],\n",
    "              'kernel': ['rbf', 'sigmoid', 'poly']} \n",
    "  \n",
    "SVMgrid = GridSearchCV(SVC(), param_grid = param_grid_svm, refit = True, verbose = 3)\n",
    "  \n",
    "# fitting the model for grid search\n",
    "\n",
    "SVMgridresult = SVMgrid.fit(x_train, y_train.values.ravel())"
   ]
  },
  {
   "cell_type": "code",
   "execution_count": 21,
   "metadata": {},
   "outputs": [
    {
     "name": "stdout",
     "output_type": "stream",
     "text": [
      "Best: 0.560934 using {'C': 100, 'gamma': 1, 'kernel': 'rbf'}\n",
      "0.431700 (0.011629) with: {'C': 0.1, 'gamma': 1, 'kernel': 'rbf'}\n",
      "0.350975 (0.012944) with: {'C': 0.1, 'gamma': 1, 'kernel': 'sigmoid'}\n",
      "0.463918 (0.011534) with: {'C': 0.1, 'gamma': 1, 'kernel': 'poly'}\n",
      "0.389267 (0.009825) with: {'C': 0.1, 'gamma': 0.1, 'kernel': 'rbf'}\n",
      "0.340298 (0.005637) with: {'C': 0.1, 'gamma': 0.1, 'kernel': 'sigmoid'}\n",
      "0.319864 (0.005776) with: {'C': 0.1, 'gamma': 0.1, 'kernel': 'poly'}\n",
      "0.333671 (0.003773) with: {'C': 0.1, 'gamma': 0.01, 'kernel': 'rbf'}\n",
      "0.319956 (0.005937) with: {'C': 0.1, 'gamma': 0.01, 'kernel': 'sigmoid'}\n",
      "0.203608 (0.000213) with: {'C': 0.1, 'gamma': 0.01, 'kernel': 'poly'}\n",
      "0.498710 (0.017046) with: {'C': 1, 'gamma': 1, 'kernel': 'rbf'}\n",
      "0.322628 (0.014911) with: {'C': 1, 'gamma': 1, 'kernel': 'sigmoid'}\n",
      "0.512058 (0.012426) with: {'C': 1, 'gamma': 1, 'kernel': 'poly'}\n",
      "0.432713 (0.009207) with: {'C': 1, 'gamma': 0.1, 'kernel': 'rbf'}\n",
      "0.419366 (0.008170) with: {'C': 1, 'gamma': 0.1, 'kernel': 'sigmoid'}\n",
      "0.327136 (0.007168) with: {'C': 1, 'gamma': 0.1, 'kernel': 'poly'}\n",
      "0.389451 (0.008968) with: {'C': 1, 'gamma': 0.01, 'kernel': 'rbf'}\n",
      "0.342599 (0.007000) with: {'C': 1, 'gamma': 0.01, 'kernel': 'sigmoid'}\n",
      "0.203608 (0.000213) with: {'C': 1, 'gamma': 0.01, 'kernel': 'poly'}\n",
      "0.542433 (0.014676) with: {'C': 10, 'gamma': 1, 'kernel': 'rbf'}\n",
      "0.303665 (0.020857) with: {'C': 10, 'gamma': 1, 'kernel': 'sigmoid'}\n",
      "0.546943 (0.012380) with: {'C': 10, 'gamma': 1, 'kernel': 'poly'}\n",
      "0.465206 (0.014004) with: {'C': 10, 'gamma': 0.1, 'kernel': 'rbf'}\n",
      "0.447164 (0.009610) with: {'C': 10, 'gamma': 0.1, 'kernel': 'sigmoid'}\n",
      "0.403443 (0.008306) with: {'C': 10, 'gamma': 0.1, 'kernel': 'poly'}\n",
      "0.432069 (0.005772) with: {'C': 10, 'gamma': 0.01, 'kernel': 'rbf'}\n",
      "0.421115 (0.007505) with: {'C': 10, 'gamma': 0.01, 'kernel': 'sigmoid'}\n",
      "0.203608 (0.000213) with: {'C': 10, 'gamma': 0.01, 'kernel': 'poly'}\n",
      "0.560934 (0.015231) with: {'C': 100, 'gamma': 1, 'kernel': 'rbf'}\n",
      "0.300351 (0.018747) with: {'C': 100, 'gamma': 1, 'kernel': 'sigmoid'}\n",
      "0.557160 (0.012626) with: {'C': 100, 'gamma': 1, 'kernel': 'poly'}\n",
      "0.508836 (0.015749) with: {'C': 100, 'gamma': 0.1, 'kernel': 'rbf'}\n",
      "0.427006 (0.014768) with: {'C': 100, 'gamma': 0.1, 'kernel': 'sigmoid'}\n",
      "0.463918 (0.011534) with: {'C': 100, 'gamma': 0.1, 'kernel': 'poly'}\n",
      "0.458394 (0.010119) with: {'C': 100, 'gamma': 0.01, 'kernel': 'rbf'}\n",
      "0.451583 (0.009602) with: {'C': 100, 'gamma': 0.01, 'kernel': 'sigmoid'}\n",
      "0.319864 (0.005776) with: {'C': 100, 'gamma': 0.01, 'kernel': 'poly'}\n"
     ]
    }
   ],
   "source": [
    "print(\"Best: %f using %s\" % (SVMgridresult.best_score_, SVMgridresult.best_params_))\n",
    "\n",
    "means = SVMgridresult.cv_results_['mean_test_score']\n",
    "stds = SVMgridresult.cv_results_['std_test_score']\n",
    "params = SVMgridresult.cv_results_['params']\n",
    "\n",
    "for mean, stdev, param in zip(means, stds, params):\n",
    "    print(\"%f (%f) with: %r\" % (mean, stdev, param))"
   ]
  },
  {
   "cell_type": "code",
   "execution_count": 8,
   "metadata": {},
   "outputs": [
    {
     "data": {
      "text/plain": [
       "0.5613018130598276"
      ]
     },
     "execution_count": 8,
     "metadata": {},
     "output_type": "execute_result"
    }
   ],
   "source": [
    "SVMgridresult.best_score_"
   ]
  },
  {
   "cell_type": "code",
   "execution_count": 22,
   "metadata": {},
   "outputs": [
    {
     "data": {
      "text/plain": [
       "['SVMclassifier.pkl']"
      ]
     },
     "execution_count": 22,
     "metadata": {},
     "output_type": "execute_result"
    }
   ],
   "source": [
    "#SVMgridresult.save('SVMclassifier.h5')  # creates a HDF5 file 'my_model.h5'\n",
    "\n",
    "joblib.dump(SVMgridresult, 'SVMclassifier.pkl')"
   ]
  },
  {
   "cell_type": "markdown",
   "metadata": {
    "collapsed": true
   },
   "source": [
    "### Decision Tree Classifier"
   ]
  },
  {
   "cell_type": "code",
   "execution_count": 23,
   "metadata": {},
   "outputs": [
    {
     "name": "stderr",
     "output_type": "stream",
     "text": [
      "/Users/sadiamubarik/anaconda3/envs/Sadia2/lib/python3.6/site-packages/sklearn/model_selection/_search.py:289: UserWarning: The total space of parameters 4 is smaller than n_iter=10. Running 4 iterations. For exhaustive searches, use GridSearchCV.\n",
      "  % (grid_size, self.n_iter, grid_size), UserWarning)\n"
     ]
    },
    {
     "name": "stdout",
     "output_type": "stream",
     "text": [
      "Tuned Decision Tree Parameters: {'min_samples_leaf': 5, 'max_features': 5, 'max_depth': None, 'criterion': 'gini'}\n",
      "Best score is 0.5504412516240246\n"
     ]
    }
   ],
   "source": [
    "from sklearn.tree import DecisionTreeClassifier\n",
    "from sklearn import tree\n",
    "\n",
    "\n",
    "# Instantiate a Decision Tree classifier: tree\n",
    "tree = DecisionTreeClassifier()\n",
    "\n",
    "\n",
    "param_dist = {\"max_depth\": [3, None],\n",
    "              \"max_features\": [np.random.randint(1, 9)],\n",
    "              \"min_samples_leaf\": [np.random.randint(1, 9)],\n",
    "              \"criterion\": [\"gini\", \"entropy\"]}\n",
    "\n",
    "\n",
    "\n",
    "# Instantiate the RandomizedSearchCV object: tree_cv\n",
    "tree_cv = RandomizedSearchCV(tree, param_dist, cv=5)\n",
    "\n",
    "# Train it on the data\n",
    "tree_cv = tree_cv.fit(x_train,y_train)\n",
    "\n",
    "#Predict the response for test dataset\n",
    "y_pred = tree_cv.predict(x_test)\n",
    "\n",
    "\n",
    "# Print the tuned parameters and score\n",
    "print(\"Tuned Decision Tree Parameters: {}\".format(tree_cv.best_params_))\n",
    "print(\"Best score is {}\".format(tree_cv.best_score_))"
   ]
  },
  {
   "cell_type": "code",
   "execution_count": 24,
   "metadata": {},
   "outputs": [
    {
     "data": {
      "text/plain": [
       "['DecisionTreeclassifier.pkl']"
      ]
     },
     "execution_count": 24,
     "metadata": {},
     "output_type": "execute_result"
    }
   ],
   "source": [
    "joblib.dump(tree_cv, 'DecisionTreeclassifier.pkl')"
   ]
  },
  {
   "cell_type": "code",
   "execution_count": null,
   "metadata": {
    "collapsed": true
   },
   "outputs": [],
   "source": [
    "\n",
    "# prepare configuration for cross validation test harness\n",
    "seed = 7\n",
    "# prepare models\n",
    "models = [('DNN', search_result),('SVM', SVMgridresult), ('Decision Tree', tree_cv)]\n",
    "\n",
    "# evaluate each model in turn\n",
    "results = []\n",
    "names = []\n",
    "\n",
    "kfold5 = KFold(n_splits=5, random_state=1, shuffle=True)                        \n",
    "scoring = [('Accuracy', 'accuracy'), \n",
    "           ('Recall', 'recall'), \n",
    "           ('Precision', 'precision'),\n",
    "            ('F1', 'f1')]"
   ]
  },
  {
   "cell_type": "code",
   "execution_count": 25,
   "metadata": {},
   "outputs": [
    {
     "data": {
      "text/plain": [
       "GridSearchCV(estimator=SVC(),\n",
       "             param_grid={'C': [0.1, 1, 10, 100], 'gamma': [1, 0.1, 0.01],\n",
       "                         'kernel': ['rbf', 'sigmoid', 'poly']},\n",
       "             verbose=3)"
      ]
     },
     "execution_count": 25,
     "metadata": {},
     "output_type": "execute_result"
    }
   ],
   "source": [
    "#load your model for further usage\n",
    "joblib.load('SVMclassifier.pkl')"
   ]
  },
  {
   "cell_type": "code",
   "execution_count": null,
   "metadata": {
    "collapsed": true
   },
   "outputs": [],
   "source": [
    "for name, model in models:\n",
    "    cv_results = cross_val_score(model, x, y, scoring='f1',cv = kfold5, n_jobs=-1)\n",
    "    results.append(cv_results)\n",
    "    msg = \"%s: %f (%f)\" % (name, cv_results.mean(), cv_results.std())\n",
    "    print(msg)\n",
    "    # boxplot algorithm comparison\n",
    "    fig = plt.figure()\n",
    "    fig.suptitle('Algorithm Comparison')\n",
    "    ax = fig.add_subplot(111)\n",
    "    plt.boxplot(results)\n",
    "    ax.set_xticklabels(names)\n",
    "    plt.show()    "
   ]
  },
  {
   "cell_type": "markdown",
   "metadata": {
    "collapsed": true
   },
   "source": [
    "### Classification report"
   ]
  },
  {
   "cell_type": "code",
   "execution_count": null,
   "metadata": {},
   "outputs": [],
   "source": [
    "import joblib\n",
    "SVMgridresult = joblib.load('SVMclassifier.pkl')\n",
    "search_result = joblib.load('dnn_regressor.pkl')\n",
    "tree_cv = joblib.load('DecisionTreeclassifier.pkl')"
   ]
  },
  {
   "cell_type": "code",
   "execution_count": 17,
   "metadata": {
    "scrolled": true
   },
   "outputs": [
    {
     "name": "stdout",
     "output_type": "stream",
     "text": [
      "              precision    recall  f1-score   support\n",
      "\n",
      "           0       0.74      0.73      0.73       550\n",
      "           1       0.46      0.55      0.50       529\n",
      "           2       0.44      0.39      0.42       554\n",
      "           3       0.46      0.42      0.44       532\n",
      "           4       0.71      0.73      0.72       551\n",
      "\n",
      "    accuracy                           0.56      2716\n",
      "   macro avg       0.56      0.56      0.56      2716\n",
      "weighted avg       0.56      0.56      0.56      2716\n",
      "\n"
     ]
    },
    {
     "name": "stderr",
     "output_type": "stream",
     "text": [
      "/Users/sadiamubarik/.local/lib/python3.6/site-packages/tensorflow/python/keras/engine/sequential.py:450: UserWarning: `model.predict_classes()` is deprecated and will be removed after 2021-01-01. Please use instead:* `np.argmax(model.predict(x), axis=-1)`,   if your model does multi-class classification   (e.g. if it uses a `softmax` last-layer activation).* `(model.predict(x) > 0.5).astype(\"int32\")`,   if your model does binary classification   (e.g. if it uses a `sigmoid` last-layer activation).\n",
      "  warnings.warn('`model.predict_classes()` is deprecated and '\n"
     ]
    }
   ],
   "source": [
    "dnn_pred = search_result.predict(x_test)\n",
    "print(classification_report(y_test, dnn_pred))\n"
   ]
  },
  {
   "cell_type": "code",
   "execution_count": 16,
   "metadata": {},
   "outputs": [
    {
     "name": "stdout",
     "output_type": "stream",
     "text": [
      "              precision    recall  f1-score   support\n",
      "\n",
      "           0       0.72      0.75      0.73       550\n",
      "           1       0.43      0.46      0.44       529\n",
      "           2       0.42      0.40      0.41       554\n",
      "           3       0.48      0.47      0.48       532\n",
      "           4       0.75      0.72      0.73       551\n",
      "\n",
      "    accuracy                           0.56      2716\n",
      "   macro avg       0.56      0.56      0.56      2716\n",
      "weighted avg       0.56      0.56      0.56      2716\n",
      "\n"
     ]
    }
   ],
   "source": [
    "tree_pred = tree_cv.predict(x_test)\n",
    "print(classification_report(y_test, tree_pred))\n"
   ]
  },
  {
   "cell_type": "code",
   "execution_count": null,
   "metadata": {
    "collapsed": true
   },
   "outputs": [],
   "source": []
  }
 ],
 "metadata": {
  "kernelspec": {
   "display_name": "Sadia2",
   "language": "python",
   "name": "sadia2"
  },
  "language_info": {
   "codemirror_mode": {
    "name": "ipython",
    "version": 3
   },
   "file_extension": ".py",
   "mimetype": "text/x-python",
   "name": "python",
   "nbconvert_exporter": "python",
   "pygments_lexer": "ipython3",
   "version": "3.6.13"
  }
 },
 "nbformat": 4,
 "nbformat_minor": 2
}
